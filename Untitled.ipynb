{
 "cells": [
  {
   "cell_type": "code",
   "execution_count": 1,
   "id": "a9ca2a35",
   "metadata": {},
   "outputs": [
    {
     "ename": "AttributeError",
     "evalue": "'NoneType' object has no attribute 'shape'",
     "output_type": "error",
     "traceback": [
      "\u001b[1;31m---------------------------------------------------------------------------\u001b[0m",
      "\u001b[1;31mAttributeError\u001b[0m                            Traceback (most recent call last)",
      "\u001b[1;32m<ipython-input-1-fac84c6b993f>\u001b[0m in \u001b[0;36m<module>\u001b[1;34m\u001b[0m\n\u001b[0;32m     37\u001b[0m \u001b[1;33m\u001b[0m\u001b[0m\n\u001b[0;32m     38\u001b[0m \u001b[0mimg\u001b[0m\u001b[1;33m=\u001b[0m\u001b[0mcv2\u001b[0m\u001b[1;33m.\u001b[0m\u001b[0mimread\u001b[0m\u001b[1;33m(\u001b[0m\u001b[1;34m\"img2.jpegm\"\u001b[0m\u001b[1;33m)\u001b[0m\u001b[1;33m\u001b[0m\u001b[1;33m\u001b[0m\u001b[0m\n\u001b[1;32m---> 39\u001b[1;33m \u001b[0mr\u001b[0m\u001b[1;33m=\u001b[0m\u001b[1;36m500.0\u001b[0m \u001b[1;33m/\u001b[0m \u001b[0mimg\u001b[0m\u001b[1;33m.\u001b[0m\u001b[0mshape\u001b[0m\u001b[1;33m[\u001b[0m\u001b[1;36m1\u001b[0m\u001b[1;33m]\u001b[0m\u001b[1;33m\u001b[0m\u001b[1;33m\u001b[0m\u001b[0m\n\u001b[0m\u001b[0;32m     40\u001b[0m \u001b[0mdim\u001b[0m\u001b[1;33m=\u001b[0m\u001b[1;33m(\u001b[0m\u001b[1;36m500\u001b[0m\u001b[1;33m,\u001b[0m \u001b[0mint\u001b[0m\u001b[1;33m(\u001b[0m\u001b[0mimg\u001b[0m\u001b[1;33m.\u001b[0m\u001b[0mshape\u001b[0m\u001b[1;33m[\u001b[0m\u001b[1;36m0\u001b[0m\u001b[1;33m]\u001b[0m \u001b[1;33m*\u001b[0m \u001b[0mr\u001b[0m\u001b[1;33m)\u001b[0m\u001b[1;33m)\u001b[0m\u001b[1;33m\u001b[0m\u001b[1;33m\u001b[0m\u001b[0m\n\u001b[0;32m     41\u001b[0m \u001b[0mimg\u001b[0m\u001b[1;33m=\u001b[0m\u001b[0mcv2\u001b[0m\u001b[1;33m.\u001b[0m\u001b[0mresize\u001b[0m\u001b[1;33m(\u001b[0m\u001b[0mimg\u001b[0m\u001b[1;33m,\u001b[0m \u001b[0mdim\u001b[0m\u001b[1;33m,\u001b[0m \u001b[0minterpolation\u001b[0m \u001b[1;33m=\u001b[0m \u001b[0mcv2\u001b[0m\u001b[1;33m.\u001b[0m\u001b[0mINTER_AREA\u001b[0m\u001b[1;33m)\u001b[0m\u001b[1;33m\u001b[0m\u001b[1;33m\u001b[0m\u001b[0m\n",
      "\u001b[1;31mAttributeError\u001b[0m: 'NoneType' object has no attribute 'shape'"
     ]
    }
   ],
   "source": [
    "import cv2\n",
    "import numpy as np\n",
    "\n",
    "\n",
    "def transform(pos):\n",
    "# This function is used to find the corners of the object and the dimensions of the object\n",
    "    pts=[]\n",
    "    n=len(pos)\n",
    "    for i in range(n):\n",
    "        pts.append(list(pos[i][0]))\n",
    "\n",
    "    sums={}\n",
    "    diffs={}\n",
    "    tl=tr=bl=br=0\n",
    "    for i in pts:\n",
    "        x=i[0]\n",
    "        y=i[1]\n",
    "        sum=x+y\n",
    "        diff=y-x\n",
    "        sums[sum]=i\n",
    "        diffs[diff]=i\n",
    "    sums=sorted(sums.items())\n",
    "    diffs=sorted(diffs.items())\n",
    "    n=len(sums)\n",
    "    rect=[sums[0][1],diffs[0][1],diffs[n-1][1],sums[n-1][1]]\n",
    "    #   top-left   top-right   bottom-left   bottom-right\n",
    "\n",
    "    h1=np.sqrt((rect[0][0]-rect[2][0])**2 + (rect[0][1]-rect[2][1])**2)\t\t#height of left side\n",
    "    h2=np.sqrt((rect[1][0]-rect[3][0])**2 + (rect[1][1]-rect[3][1])**2)\t\t#height of right side\n",
    "    h=max(h1,h2)\n",
    "\n",
    "    w1=np.sqrt((rect[0][0]-rect[1][0])**2 + (rect[0][1]-rect[1][1])**2)\t\t#width of upper side\n",
    "    w2=np.sqrt((rect[2][0]-rect[3][0])**2 + (rect[2][1]-rect[3][1])**2)\t\t#width of lower side\n",
    "    w=max(w1,w2)\n",
    "\n",
    "    return int(w),int(h),rect\n",
    "\n",
    "img=cv2.imread(\"img2.jpegm\")\n",
    "r=500.0 / img.shape[1]\n",
    "dim=(500, int(img.shape[0] * r))\n",
    "img=cv2.resize(img, dim, interpolation = cv2.INTER_AREA)\n",
    "\n",
    "cv2.imshow('INPUT',img)\n",
    "gray=cv2.cvtColor(img,cv2.COLOR_BGR2GRAY)\n",
    "gray=cv2.GaussianBlur(gray,(11,11),0)\n",
    "edge=cv2.Canny(gray,100,200)\n",
    "_, contours, _ = cv2.findContours(edge.copy(), cv2.RETR_TREE, cv2.CHAIN_APPROX_SIMPLE)\n",
    "cv2.drawContours(img,contours,-1,[0,0,255],2)\n",
    "cv2.imshow('Contours',img)\n",
    "n=len(contours)\n",
    "max_area=0\n",
    "pos=0\n",
    "for i in contours:\n",
    "    area=cv2.contourArea(i)\n",
    "    if area>max_area:\n",
    "        max_area=area\n",
    "        pos=i\n",
    "peri=cv2.arcLength(pos,True)\n",
    "approx=cv2.approxPolyDP(pos,0.02*peri,True)\n",
    "\n",
    "size=img.shape\n",
    "w,h,arr=transform(approx)\n",
    "\n",
    "pts2=np.float32([[0,0],[w,0],[0,h],[w,h]])\n",
    "pts1=np.float32(arr)\n",
    "M=cv2.getPerspectiveTransform(pts1,pts2)\n",
    "dst=cv2.warpPerspective(img,M,(w,h))\n",
    "image=cv2.cvtColor(dst,cv2.COLOR_BGR2GRAY)\n",
    "#image=cv2.adaptiveThreshold(image,255,1,0,11,2)\n",
    "image = cv2.resize(image,(w,h),interpolation = cv2.INTER_AREA)\n",
    "cv2.imshow('OUTPUT',image)\n",
    "cv2.imwrite(\"output.png\", image)\n",
    "cv2.waitKey(0)\n",
    "cv2.destroyAllWindows()"
   ]
  },
  {
   "cell_type": "code",
   "execution_count": null,
   "id": "823b603c",
   "metadata": {},
   "outputs": [],
   "source": []
  }
 ],
 "metadata": {
  "kernelspec": {
   "display_name": "Python 3",
   "language": "python",
   "name": "python3"
  },
  "language_info": {
   "codemirror_mode": {
    "name": "ipython",
    "version": 3
   },
   "file_extension": ".py",
   "mimetype": "text/x-python",
   "name": "python",
   "nbconvert_exporter": "python",
   "pygments_lexer": "ipython3",
   "version": "3.8.8"
  }
 },
 "nbformat": 4,
 "nbformat_minor": 5
}
