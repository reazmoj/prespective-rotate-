{
 "cells": [
  {
   "cell_type": "code",
   "execution_count": 14,
   "id": "c1b2ceca",
   "metadata": {},
   "outputs": [],
   "source": [
    "import cv2\n",
    "import numpy as np\n",
    "import matplotlib.pyplot as plt"
   ]
  },
  {
   "cell_type": "code",
   "execution_count": 15,
   "id": "e0f47912",
   "metadata": {},
   "outputs": [],
   "source": [
    "image = cv2.imread('img2.jpeg')\n",
    "\n",
    "# Deep copy for results:\n",
    "imageCopy = image.copy()\n",
    "\n",
    "# Convert BGR to grayscale:\n",
    "grayImage = cv2.cvtColor(imageCopy, cv2.COLOR_BGR2GRAY)\n",
    "\n",
    "# Threshold via Otsu:\n",
    "_, binaryImage = cv2.threshold(grayImage, 0, 255, cv2.THRESH_BINARY + cv2.THRESH_OTSU)\n"
   ]
  },
  {
   "cell_type": "code",
   "execution_count": 16,
   "id": "eff7ed71",
   "metadata": {},
   "outputs": [],
   "source": [
    "# Get edges:\n",
    "cannyImage = cv2.Canny(binaryImage, threshold1=120, threshold2=255, edges=1)"
   ]
  },
  {
   "cell_type": "code",
   "execution_count": 17,
   "id": "437fb393",
   "metadata": {},
   "outputs": [
    {
     "data": {
      "text/plain": [
       "<matplotlib.image.AxesImage at 0x99d3a74310>"
      ]
     },
     "execution_count": 17,
     "metadata": {},
     "output_type": "execute_result"
    },
    {
     "data": {
      "image/png": "[encoded data removed]",
      "text/plain": [
       "<Figure size 432x288 with 1 Axes>"
      ]
     },
     "metadata": {
      "needs_background": "light"
     },
     "output_type": "display_data"
    }
   ],
   "source": [
    "plt.imshow(cannyImage)"
   ]
  },
  {
   "cell_type": "code",
   "execution_count": 18,
   "id": "34cc629f",
   "metadata": {},
   "outputs": [],
   "source": [
    "# Find the EXTERNAL contours on the binary image:\n",
    "contours, hierarchy = cv2.findContours(cannyImage, cv2.RETR_EXTERNAL, cv2.CHAIN_APPROX_SIMPLE)\n",
    "\n",
    "# Store the corners:\n",
    "cornerList = []\n",
    "\n",
    "# Look for the outer bounding boxes (no children):\n",
    "for i, c in enumerate(contours):\n",
    "\n",
    "    # Approximate the contour to a polygon:\n",
    "    contoursPoly = cv2.approxPolyDP(c, 3, True)\n",
    "\n",
    "    # Convert the polygon to a bounding rectangle:\n",
    "    boundRect = cv2.boundingRect(contoursPoly)\n",
    "\n",
    "    # Get the bounding rect's data:\n",
    "    rectX = boundRect[0]\n",
    "    rectY = boundRect[1]\n",
    "    rectWidth = boundRect[2]\n",
    "    rectHeight = boundRect[3]\n",
    "\n",
    "    # Estimate the bounding rect area:\n",
    "    rectArea = rectWidth * rectHeight\n",
    "\n",
    "    # Set a min area threshold\n",
    "    minArea = 100000\n",
    "\n",
    "# Filter blobs by area:\n",
    "if rectArea > minArea:\n",
    "\n",
    "    # Get the convex hull for the target contour:\n",
    "    hull = cv2.convexHull(c)\n",
    "    # (Optional) Draw the hull:\n",
    "    color = (0, 0, 255)\n",
    "    cv2.polylines(imageCopy, [hull], True, color, 2)\n",
    "\n",
    "    # Create image for good features to track:\n",
    "    (height, width) = cannyImage.shape[:2]\n",
    "    # Black image same size as original input:\n",
    "    hullImg = np.zeros((height, width), dtype =np.uint8)\n",
    "\n",
    "    # Draw the points:\n",
    "    cv2.drawContours(hullImg, [hull], 0, 255, 2)\n",
    "    cv2.imshow(\"hullImg\", hullImg)\n",
    "    cv2.waitKey(0)"
   ]
  },
  {
   "cell_type": "code",
   "execution_count": 19,
   "id": "5ebb1e4b",
   "metadata": {},
   "outputs": [],
   "source": [
    "# Set the corner detection:\n",
    "maxCorners = 4\n",
    "qualityLevel = 0.01\n",
    "minDistance = int(max(height, width) / maxCorners)\n",
    "\n",
    "# Get the corners:\n",
    "corners = cv2.goodFeaturesToTrack(hullImg, maxCorners, qualityLevel, minDistance)\n",
    "corners = np.int0(corners)\n",
    "\n",
    "# Loop through the corner array and store/draw the corners:\n",
    "for c in corners:\n",
    "\n",
    "    # Flat the array of corner points:\n",
    "    (x, y) = c.ravel()\n",
    "    # Store the corner point in the list:\n",
    "    cornerList.append((x,y))\n",
    "\n",
    "    # (Optional) Draw the corner points:\n",
    "    cv2.circle(imageCopy, (x, y), 5, 255, 5)\n",
    "    cv2.imshow(\"Corners\", imageCopy)\n",
    "    cv2.waitKey(0)\n",
    "\n",
    "# print(\"points of corners is: \", corners)\n",
    "destinationPoints = np.int0([[0,0], [width,0], [0,height], [width,height]])"
   ]
  },
  {
   "cell_type": "code",
   "execution_count": 21,
   "id": "0dfa7763",
   "metadata": {},
   "outputs": [
    {
     "name": "stdout",
     "output_type": "stream",
     "text": [
      "[[794 148]\n",
      " [110 710]\n",
      " [772 763]\n",
      " [274 144]]\n"
     ]
    }
   ],
   "source": [
    "# print(destinationPoints)\n",
    "sourcePoints = []\n",
    "for i in range(4):\n",
    "    sourcePoints.append(corners[i][0])\n",
    "    \n",
    "sourcePoints = np.int0(sourcePoints)\n",
    "\n",
    "print(sourcePoints)"
   ]
  },
  {
   "cell_type": "code",
   "execution_count": 63,
   "id": "d046289c",
   "metadata": {},
   "outputs": [
    {
     "ename": "error",
     "evalue": "OpenCV(4.0.1) C:\\ci\\opencv-suite_1573470242804\\work\\modules\\imgproc\\src\\imgwarp.cpp:3157: error: (-215:Assertion failed) src.checkVector(2, CV_32F) == 4 && dst.checkVector(2, CV_32F) == 4 in function 'cv::getPerspectiveTransform'\n",
     "output_type": "error",
     "traceback": [
      "\u001b[1;31m---------------------------------------------------------------------------\u001b[0m",
      "\u001b[1;31merror\u001b[0m                                     Traceback (most recent call last)",
      "\u001b[1;32m<ipython-input-63-7867dd5155cc>\u001b[0m in \u001b[0;36m<module>\u001b[1;34m\u001b[0m\n\u001b[1;32m----> 1\u001b[1;33m \u001b[0mM\u001b[0m\u001b[1;33m=\u001b[0m\u001b[0mcv2\u001b[0m\u001b[1;33m.\u001b[0m\u001b[0mgetPerspectiveTransform\u001b[0m\u001b[1;33m(\u001b[0m\u001b[0msourcePoints\u001b[0m\u001b[1;33m,\u001b[0m\u001b[0mdestinationPoints\u001b[0m\u001b[1;33m)\u001b[0m\u001b[1;33m\u001b[0m\u001b[1;33m\u001b[0m\u001b[0m\n\u001b[0m\u001b[0;32m      2\u001b[0m \u001b[0mdst\u001b[0m\u001b[1;33m=\u001b[0m\u001b[0mcv2\u001b[0m\u001b[1;33m.\u001b[0m\u001b[0mwarpPerspective\u001b[0m\u001b[1;33m(\u001b[0m\u001b[0mimageCopy\u001b[0m\u001b[1;33m,\u001b[0m\u001b[0mM\u001b[0m\u001b[1;33m,\u001b[0m\u001b[1;33m(\u001b[0m\u001b[0mw\u001b[0m\u001b[1;33m,\u001b[0m\u001b[0mh\u001b[0m\u001b[1;33m)\u001b[0m\u001b[1;33m)\u001b[0m\u001b[1;33m\u001b[0m\u001b[1;33m\u001b[0m\u001b[0m\n\u001b[0;32m      3\u001b[0m \u001b[0mimage\u001b[0m\u001b[1;33m=\u001b[0m\u001b[0mcv2\u001b[0m\u001b[1;33m.\u001b[0m\u001b[0mcvtColor\u001b[0m\u001b[1;33m(\u001b[0m\u001b[0mdst\u001b[0m\u001b[1;33m,\u001b[0m\u001b[0mcv2\u001b[0m\u001b[1;33m.\u001b[0m\u001b[0mCOLOR_BGR2GRAY\u001b[0m\u001b[1;33m)\u001b[0m\u001b[1;33m\u001b[0m\u001b[1;33m\u001b[0m\u001b[0m\n\u001b[0;32m      4\u001b[0m \u001b[0mimage\u001b[0m \u001b[1;33m=\u001b[0m \u001b[0mcv2\u001b[0m\u001b[1;33m.\u001b[0m\u001b[0mresize\u001b[0m\u001b[1;33m(\u001b[0m\u001b[0mimage\u001b[0m\u001b[1;33m,\u001b[0m\u001b[1;33m(\u001b[0m\u001b[0mw\u001b[0m\u001b[1;33m,\u001b[0m\u001b[0mh\u001b[0m\u001b[1;33m)\u001b[0m\u001b[1;33m,\u001b[0m\u001b[0minterpolation\u001b[0m \u001b[1;33m=\u001b[0m \u001b[0mcv2\u001b[0m\u001b[1;33m.\u001b[0m\u001b[0mINTER_AREA\u001b[0m\u001b[1;33m)\u001b[0m\u001b[1;33m\u001b[0m\u001b[1;33m\u001b[0m\u001b[0m\n\u001b[0;32m      5\u001b[0m \u001b[0mcv2\u001b[0m\u001b[1;33m.\u001b[0m\u001b[0mimshow\u001b[0m\u001b[1;33m(\u001b[0m\u001b[1;34m'OUTPUT'\u001b[0m\u001b[1;33m,\u001b[0m\u001b[0mimage\u001b[0m\u001b[1;33m)\u001b[0m\u001b[1;33m\u001b[0m\u001b[1;33m\u001b[0m\u001b[0m\n",
      "\u001b[1;31merror\u001b[0m: OpenCV(4.0.1) C:\\ci\\opencv-suite_1573470242804\\work\\modules\\imgproc\\src\\imgwarp.cpp:3157: error: (-215:Assertion failed) src.checkVector(2, CV_32F) == 4 && dst.checkVector(2, CV_32F) == 4 in function 'cv::getPerspectiveTransform'\n"
     ]
    }
   ],
   "source": [
    "M=cv2.getPerspectiveTransform(sourcePoints,destinationPoints)\n",
    "dst=cv2.warpPerspective(imageCopy,M,(w,h))\n",
    "image=cv2.cvtColor(dst,cv2.COLOR_BGR2GRAY)\n",
    "image = cv2.resize(image,(w,h),interpolation = cv2.INTER_AREA)\n",
    "cv2.imshow('OUTPUT',image)\n",
    "cv2.imwrite(\"output.png\", image)\n",
    "cv2.waitKey(0)\n",
    "cv2.destroyAllWindows()"
   ]
  },
  {
   "cell_type": "code",
   "execution_count": null,
   "id": "75213670",
   "metadata": {},
   "outputs": [],
   "source": []
  }
 ],
 "metadata": {
  "kernelspec": {
   "display_name": "Python 3",
   "language": "python",
   "name": "python3"
  },
  "language_info": {
   "codemirror_mode": {
    "name": "ipython",
    "version": 3
   },
   "file_extension": ".py",
   "mimetype": "text/x-python",
   "name": "python",
   "nbconvert_exporter": "python",
   "pygments_lexer": "ipython3",
   "version": "3.8.8"
  }
 },
 "nbformat": 4,
 "nbformat_minor": 5
}
